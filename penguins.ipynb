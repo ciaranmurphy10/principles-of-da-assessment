{
 "cells": [
  {
   "cell_type": "markdown",
   "id": "6c2f4c6e-a730-4625-bc04-5af30193dee9",
   "metadata": {},
   "source": [
    "# Palmers Penguins Analysis\n",
    "An analysis of the Palmers Penguins data set for the module 23-24: 8634 -- PRINCIPLES OF DATA ANALYTICS."
   ]
  },
  {
   "cell_type": "markdown",
   "id": "ebe0d51a-5ccb-42b9-912e-bd2bfad45168",
   "metadata": {},
   "source": [
    "## Import Modules"
   ]
  },
  {
   "cell_type": "code",
   "execution_count": 2,
   "id": "2df04be8-1fd6-4aae-a39c-bdb51623368e",
   "metadata": {},
   "outputs": [],
   "source": [
    "import pandas as pd\n",
    "import matplotlib.pyplot as plt\n",
    "import seaborn as sns\n",
    "import numpy as np\n",
    "import sys"
   ]
  },
  {
   "cell_type": "markdown",
   "id": "fcbbbf95-744a-491a-b7b1-b527784d41dc",
   "metadata": {},
   "source": [
    "## Load Dataset\n",
    "We can use the pandas `read_csv()` function to read the dataset as a pandas dataframe from where it's hosted on GitHub as a CSV file. We'll asign it to the variable `penguins`. No other arguments are needed other than the file path. "
   ]
  },
  {
   "cell_type": "code",
   "execution_count": 3,
   "id": "81a85f53-71ea-4939-8d94-34ae17be5362",
   "metadata": {},
   "outputs": [],
   "source": [
    "penguins = pd.read_csv(\"https://raw.githubusercontent.com/mwaskom/seaborn-data/master/penguins.csv\")"
   ]
  },
  {
   "cell_type": "markdown",
   "id": "1e19d212-777d-4e3b-ab9f-4435b36a7066",
   "metadata": {},
   "source": [
    "## Overview of Dataset\n",
    "There are a number of functions within the pandas library that we can use to explore the dataset. "
   ]
  },
  {
   "cell_type": "markdown",
   "id": "8f294c0a-4e5f-4f65-9222-f39596f87619",
   "metadata": {},
   "source": [
    "The `display()` funciton will display the first and last five rows of our dataset, giving us information about the types of variables and the size of our dataset. "
   ]
  },
  {
   "cell_type": "code",
   "execution_count": 4,
   "id": "09085532-b5b6-4fea-aa41-be3ae2d58e78",
   "metadata": {},
   "outputs": [
    {
     "data": {
      "text/html": [
       "<div>\n",
       "<style scoped>\n",
       "    .dataframe tbody tr th:only-of-type {\n",
       "        vertical-align: middle;\n",
       "    }\n",
       "\n",
       "    .dataframe tbody tr th {\n",
       "        vertical-align: top;\n",
       "    }\n",
       "\n",
       "    .dataframe thead th {\n",
       "        text-align: right;\n",
       "    }\n",
       "</style>\n",
       "<table border=\"1\" class=\"dataframe\">\n",
       "  <thead>\n",
       "    <tr style=\"text-align: right;\">\n",
       "      <th></th>\n",
       "      <th>species</th>\n",
       "      <th>island</th>\n",
       "      <th>bill_length_mm</th>\n",
       "      <th>bill_depth_mm</th>\n",
       "      <th>flipper_length_mm</th>\n",
       "      <th>body_mass_g</th>\n",
       "      <th>sex</th>\n",
       "    </tr>\n",
       "  </thead>\n",
       "  <tbody>\n",
       "    <tr>\n",
       "      <th>0</th>\n",
       "      <td>Adelie</td>\n",
       "      <td>Torgersen</td>\n",
       "      <td>39.1</td>\n",
       "      <td>18.7</td>\n",
       "      <td>181.0</td>\n",
       "      <td>3750.0</td>\n",
       "      <td>MALE</td>\n",
       "    </tr>\n",
       "    <tr>\n",
       "      <th>1</th>\n",
       "      <td>Adelie</td>\n",
       "      <td>Torgersen</td>\n",
       "      <td>39.5</td>\n",
       "      <td>17.4</td>\n",
       "      <td>186.0</td>\n",
       "      <td>3800.0</td>\n",
       "      <td>FEMALE</td>\n",
       "    </tr>\n",
       "    <tr>\n",
       "      <th>2</th>\n",
       "      <td>Adelie</td>\n",
       "      <td>Torgersen</td>\n",
       "      <td>40.3</td>\n",
       "      <td>18.0</td>\n",
       "      <td>195.0</td>\n",
       "      <td>3250.0</td>\n",
       "      <td>FEMALE</td>\n",
       "    </tr>\n",
       "    <tr>\n",
       "      <th>3</th>\n",
       "      <td>Adelie</td>\n",
       "      <td>Torgersen</td>\n",
       "      <td>NaN</td>\n",
       "      <td>NaN</td>\n",
       "      <td>NaN</td>\n",
       "      <td>NaN</td>\n",
       "      <td>NaN</td>\n",
       "    </tr>\n",
       "    <tr>\n",
       "      <th>4</th>\n",
       "      <td>Adelie</td>\n",
       "      <td>Torgersen</td>\n",
       "      <td>36.7</td>\n",
       "      <td>19.3</td>\n",
       "      <td>193.0</td>\n",
       "      <td>3450.0</td>\n",
       "      <td>FEMALE</td>\n",
       "    </tr>\n",
       "    <tr>\n",
       "      <th>...</th>\n",
       "      <td>...</td>\n",
       "      <td>...</td>\n",
       "      <td>...</td>\n",
       "      <td>...</td>\n",
       "      <td>...</td>\n",
       "      <td>...</td>\n",
       "      <td>...</td>\n",
       "    </tr>\n",
       "    <tr>\n",
       "      <th>339</th>\n",
       "      <td>Gentoo</td>\n",
       "      <td>Biscoe</td>\n",
       "      <td>NaN</td>\n",
       "      <td>NaN</td>\n",
       "      <td>NaN</td>\n",
       "      <td>NaN</td>\n",
       "      <td>NaN</td>\n",
       "    </tr>\n",
       "    <tr>\n",
       "      <th>340</th>\n",
       "      <td>Gentoo</td>\n",
       "      <td>Biscoe</td>\n",
       "      <td>46.8</td>\n",
       "      <td>14.3</td>\n",
       "      <td>215.0</td>\n",
       "      <td>4850.0</td>\n",
       "      <td>FEMALE</td>\n",
       "    </tr>\n",
       "    <tr>\n",
       "      <th>341</th>\n",
       "      <td>Gentoo</td>\n",
       "      <td>Biscoe</td>\n",
       "      <td>50.4</td>\n",
       "      <td>15.7</td>\n",
       "      <td>222.0</td>\n",
       "      <td>5750.0</td>\n",
       "      <td>MALE</td>\n",
       "    </tr>\n",
       "    <tr>\n",
       "      <th>342</th>\n",
       "      <td>Gentoo</td>\n",
       "      <td>Biscoe</td>\n",
       "      <td>45.2</td>\n",
       "      <td>14.8</td>\n",
       "      <td>212.0</td>\n",
       "      <td>5200.0</td>\n",
       "      <td>FEMALE</td>\n",
       "    </tr>\n",
       "    <tr>\n",
       "      <th>343</th>\n",
       "      <td>Gentoo</td>\n",
       "      <td>Biscoe</td>\n",
       "      <td>49.9</td>\n",
       "      <td>16.1</td>\n",
       "      <td>213.0</td>\n",
       "      <td>5400.0</td>\n",
       "      <td>MALE</td>\n",
       "    </tr>\n",
       "  </tbody>\n",
       "</table>\n",
       "<p>344 rows × 7 columns</p>\n",
       "</div>"
      ],
      "text/plain": [
       "    species     island  bill_length_mm  bill_depth_mm  flipper_length_mm  \\\n",
       "0    Adelie  Torgersen            39.1           18.7              181.0   \n",
       "1    Adelie  Torgersen            39.5           17.4              186.0   \n",
       "2    Adelie  Torgersen            40.3           18.0              195.0   \n",
       "3    Adelie  Torgersen             NaN            NaN                NaN   \n",
       "4    Adelie  Torgersen            36.7           19.3              193.0   \n",
       "..      ...        ...             ...            ...                ...   \n",
       "339  Gentoo     Biscoe             NaN            NaN                NaN   \n",
       "340  Gentoo     Biscoe            46.8           14.3              215.0   \n",
       "341  Gentoo     Biscoe            50.4           15.7              222.0   \n",
       "342  Gentoo     Biscoe            45.2           14.8              212.0   \n",
       "343  Gentoo     Biscoe            49.9           16.1              213.0   \n",
       "\n",
       "     body_mass_g     sex  \n",
       "0         3750.0    MALE  \n",
       "1         3800.0  FEMALE  \n",
       "2         3250.0  FEMALE  \n",
       "3            NaN     NaN  \n",
       "4         3450.0  FEMALE  \n",
       "..           ...     ...  \n",
       "339          NaN     NaN  \n",
       "340       4850.0  FEMALE  \n",
       "341       5750.0    MALE  \n",
       "342       5200.0  FEMALE  \n",
       "343       5400.0    MALE  \n",
       "\n",
       "[344 rows x 7 columns]"
      ]
     },
     "metadata": {},
     "output_type": "display_data"
    }
   ],
   "source": [
    "display(penguins)"
   ]
  },
  {
   "cell_type": "markdown",
   "id": "884d5e1d-8761-4169-b6ec-071567e26213",
   "metadata": {},
   "source": [
    "We can see that our dataset has 344 rows, some of which contain missing datapoints as evidenced by the `NaN` values in rows 3 and 339. \n",
    "\n",
    "Our dataset has seven columns, four of which appear to contain floats and 3 that appear to contain strings. To verify the types of data in our dataset, we can use the `.info()` method, which returns some descriptive information about a DataFrame. "
   ]
  },
  {
   "cell_type": "code",
   "execution_count": 5,
   "id": "53f3ec4d-e972-4c76-a7d5-70aa304eb790",
   "metadata": {},
   "outputs": [
    {
     "name": "stdout",
     "output_type": "stream",
     "text": [
      "<class 'pandas.core.frame.DataFrame'>\n",
      "RangeIndex: 344 entries, 0 to 343\n",
      "Data columns (total 7 columns):\n",
      " #   Column             Non-Null Count  Dtype  \n",
      "---  ------             --------------  -----  \n",
      " 0   species            344 non-null    object \n",
      " 1   island             344 non-null    object \n",
      " 2   bill_length_mm     342 non-null    float64\n",
      " 3   bill_depth_mm      342 non-null    float64\n",
      " 4   flipper_length_mm  342 non-null    float64\n",
      " 5   body_mass_g        342 non-null    float64\n",
      " 6   sex                333 non-null    object \n",
      "dtypes: float64(4), object(3)\n",
      "memory usage: 18.9+ KB\n"
     ]
    }
   ],
   "source": [
    "penguins.info()"
   ]
  },
  {
   "cell_type": "markdown",
   "id": "f3b9cffe-adb3-4c31-bcfc-9d918ee3c9fb",
   "metadata": {},
   "source": [
    "This confirms our inference about our data types. The object data type can be used to store mixed data, but it is generally used to store strings.  "
   ]
  },
  {
   "cell_type": "markdown",
   "id": "e7762a78-20f7-48de-9210-28b6ff9e6a3a",
   "metadata": {},
   "source": [
    "The `.describe()` method detects numerical columns and provides some summary statistics from our dataset. "
   ]
  },
  {
   "cell_type": "code",
   "execution_count": 6,
   "id": "01669e77-3272-4edb-8a9e-e61b3a63e671",
   "metadata": {},
   "outputs": [
    {
     "data": {
      "text/html": [
       "<div>\n",
       "<style scoped>\n",
       "    .dataframe tbody tr th:only-of-type {\n",
       "        vertical-align: middle;\n",
       "    }\n",
       "\n",
       "    .dataframe tbody tr th {\n",
       "        vertical-align: top;\n",
       "    }\n",
       "\n",
       "    .dataframe thead th {\n",
       "        text-align: right;\n",
       "    }\n",
       "</style>\n",
       "<table border=\"1\" class=\"dataframe\">\n",
       "  <thead>\n",
       "    <tr style=\"text-align: right;\">\n",
       "      <th></th>\n",
       "      <th>bill_length_mm</th>\n",
       "      <th>bill_depth_mm</th>\n",
       "      <th>flipper_length_mm</th>\n",
       "      <th>body_mass_g</th>\n",
       "    </tr>\n",
       "  </thead>\n",
       "  <tbody>\n",
       "    <tr>\n",
       "      <th>count</th>\n",
       "      <td>342.000000</td>\n",
       "      <td>342.000000</td>\n",
       "      <td>342.000000</td>\n",
       "      <td>342.000000</td>\n",
       "    </tr>\n",
       "    <tr>\n",
       "      <th>mean</th>\n",
       "      <td>43.921930</td>\n",
       "      <td>17.151170</td>\n",
       "      <td>200.915205</td>\n",
       "      <td>4201.754386</td>\n",
       "    </tr>\n",
       "    <tr>\n",
       "      <th>std</th>\n",
       "      <td>5.459584</td>\n",
       "      <td>1.974793</td>\n",
       "      <td>14.061714</td>\n",
       "      <td>801.954536</td>\n",
       "    </tr>\n",
       "    <tr>\n",
       "      <th>min</th>\n",
       "      <td>32.100000</td>\n",
       "      <td>13.100000</td>\n",
       "      <td>172.000000</td>\n",
       "      <td>2700.000000</td>\n",
       "    </tr>\n",
       "    <tr>\n",
       "      <th>25%</th>\n",
       "      <td>39.225000</td>\n",
       "      <td>15.600000</td>\n",
       "      <td>190.000000</td>\n",
       "      <td>3550.000000</td>\n",
       "    </tr>\n",
       "    <tr>\n",
       "      <th>50%</th>\n",
       "      <td>44.450000</td>\n",
       "      <td>17.300000</td>\n",
       "      <td>197.000000</td>\n",
       "      <td>4050.000000</td>\n",
       "    </tr>\n",
       "    <tr>\n",
       "      <th>75%</th>\n",
       "      <td>48.500000</td>\n",
       "      <td>18.700000</td>\n",
       "      <td>213.000000</td>\n",
       "      <td>4750.000000</td>\n",
       "    </tr>\n",
       "    <tr>\n",
       "      <th>max</th>\n",
       "      <td>59.600000</td>\n",
       "      <td>21.500000</td>\n",
       "      <td>231.000000</td>\n",
       "      <td>6300.000000</td>\n",
       "    </tr>\n",
       "  </tbody>\n",
       "</table>\n",
       "</div>"
      ],
      "text/plain": [
       "       bill_length_mm  bill_depth_mm  flipper_length_mm  body_mass_g\n",
       "count      342.000000     342.000000         342.000000   342.000000\n",
       "mean        43.921930      17.151170         200.915205  4201.754386\n",
       "std          5.459584       1.974793          14.061714   801.954536\n",
       "min         32.100000      13.100000         172.000000  2700.000000\n",
       "25%         39.225000      15.600000         190.000000  3550.000000\n",
       "50%         44.450000      17.300000         197.000000  4050.000000\n",
       "75%         48.500000      18.700000         213.000000  4750.000000\n",
       "max         59.600000      21.500000         231.000000  6300.000000"
      ]
     },
     "execution_count": 6,
     "metadata": {},
     "output_type": "execute_result"
    }
   ],
   "source": [
    "penguins.describe()"
   ]
  },
  {
   "cell_type": "markdown",
   "id": "a2298a9f-c35d-4ca1-bfac-5fb2e597be7d",
   "metadata": {},
   "source": [
    "## Types of Variables\n",
    "\n",
    "We've determined that our dataset has four float columns, and three object columns (which likely contain strings). Let's examine them in more detail. \n",
    "\n"
   ]
  },
  {
   "cell_type": "markdown",
   "id": "47570362-47bb-4da3-bd0b-30d9e965a01f",
   "metadata": {},
   "source": [
    "### Species\n",
    "\n",
    "The first column in our data is the species column. We can index our DataFrame using a string to return just this column as a pandas Series. "
   ]
  },
  {
   "cell_type": "code",
   "execution_count": 8,
   "id": "25107da1-fe29-4f2a-b9ea-4229658e1113",
   "metadata": {},
   "outputs": [
    {
     "data": {
      "text/plain": [
       "0      Adelie\n",
       "1      Adelie\n",
       "2      Adelie\n",
       "3      Adelie\n",
       "4      Adelie\n",
       "        ...  \n",
       "339    Gentoo\n",
       "340    Gentoo\n",
       "341    Gentoo\n",
       "342    Gentoo\n",
       "343    Gentoo\n",
       "Name: species, Length: 344, dtype: object"
      ]
     },
     "execution_count": 8,
     "metadata": {},
     "output_type": "execute_result"
    }
   ],
   "source": [
    "penguins[\"species\"]"
   ]
  },
  {
   "cell_type": "markdown",
   "id": "94e0f144-1e97-400f-a643-69bcbf595596",
   "metadata": {},
   "source": [
    "It appears to contain string data. From this view, we can see that it contains two unique elements, \"Adelie\" and \"Gentoo\". To view all of the unique elements in this Series, we can use the `.unique()` method. "
   ]
  },
  {
   "cell_type": "code",
   "execution_count": 9,
   "id": "c59a77a4-0a3c-4fab-b0a3-ee42ee090891",
   "metadata": {},
   "outputs": [
    {
     "data": {
      "text/plain": [
       "array(['Adelie', 'Chinstrap', 'Gentoo'], dtype=object)"
      ]
     },
     "execution_count": 9,
     "metadata": {},
     "output_type": "execute_result"
    }
   ],
   "source": [
    "penguins[\"species\"].unique()"
   ]
  },
  {
   "cell_type": "markdown",
   "id": "61414be3-1819-42e8-8e7c-0496b1334932",
   "metadata": {},
   "source": [
    "We can see that there is a third unique element, \"Chinstrap\". Since the species column contains three unique elements, it makes sense to use the string type to model this variable. \n",
    "\n",
    "An alternative type that we could use for this variable is the int type. Since ints are smaller and faster to compute, we could assign each of the three unique elements to a particular integer and convert it back at the end of our analysis. \n",
    "\n",
    "To test how much space we would save by converting to int type, we can use the `getsizeof()` function from the `sys` module. "
   ]
  },
  {
   "cell_type": "code",
   "execution_count": 3,
   "id": "676e018b",
   "metadata": {},
   "outputs": [
    {
     "name": "stdout",
     "output_type": "stream",
     "text": [
      "{'Adelie': 47, 'Chinstrap': 50, 'Gentoo': 47}\n",
      "{0: 28, 1: 28, 2: 28}\n"
     ]
    }
   ],
   "source": [
    "# Create a dictionary mapping each of the species strings to the number of bytes the string takes up. \n",
    "species_strings = {i: sys.getsizeof(i) for i in ['Adelie', 'Chinstrap', 'Gentoo']}\n",
    "\n",
    "# Create a dictionary mapping three sample ints to the the number of bytes the int takes up. \n",
    "species_ints = {i: sys.getsizeof(i) for i in [0, 1, 2]}\n",
    "\n",
    "print(species_strings) # Print the dictionary of string sizes. \n",
    "\n",
    "print(species_ints) # Print the dictionary of int sizes. "
   ]
  },
  {
   "cell_type": "markdown",
   "id": "f3925e3f",
   "metadata": {},
   "source": [
    "We can see that by using the ints 0, 1, and 2 instead of Adelie, Chinstrap and Gentoo, we would save 19, 22, and 19 bytes respectively. "
   ]
  },
  {
   "cell_type": "markdown",
   "id": "11539945-7ec7-42b8-8858-867a44eff5ec",
   "metadata": {},
   "source": [
    "### Island\n",
    "\n",
    "We can use the same commands to explore the island variable. "
   ]
  },
  {
   "cell_type": "code",
   "execution_count": 10,
   "id": "ce9b525f-ef68-44ec-8aef-3480adde3efa",
   "metadata": {},
   "outputs": [
    {
     "data": {
      "text/plain": [
       "0      Torgersen\n",
       "1      Torgersen\n",
       "2      Torgersen\n",
       "3      Torgersen\n",
       "4      Torgersen\n",
       "         ...    \n",
       "339       Biscoe\n",
       "340       Biscoe\n",
       "341       Biscoe\n",
       "342       Biscoe\n",
       "343       Biscoe\n",
       "Name: island, Length: 344, dtype: object"
      ]
     },
     "execution_count": 10,
     "metadata": {},
     "output_type": "execute_result"
    }
   ],
   "source": [
    "penguins[\"island\"]"
   ]
  },
  {
   "cell_type": "code",
   "execution_count": 11,
   "id": "05450073-b1e2-4684-936e-7000a754046e",
   "metadata": {},
   "outputs": [
    {
     "data": {
      "text/plain": [
       "array(['Torgersen', 'Biscoe', 'Dream'], dtype=object)"
      ]
     },
     "execution_count": 11,
     "metadata": {},
     "output_type": "execute_result"
    }
   ],
   "source": [
    "penguins[\"island\"].unique()"
   ]
  },
  {
   "cell_type": "markdown",
   "id": "1f1c8fb3-0474-41f4-a772-b3dbaf36b338",
   "metadata": {},
   "source": [
    "From this, we can see that the island column also contains three unique elements, so it makes sense to use strings or ints to model this variable also. \n",
    "\n",
    "We can perform a similar test to determine the size of the variables. "
   ]
  },
  {
   "cell_type": "code",
   "execution_count": 5,
   "id": "f6d28206",
   "metadata": {},
   "outputs": [
    {
     "name": "stdout",
     "output_type": "stream",
     "text": [
      "{'Torgersen': 50, 'Biscoe': 47, 'Dream': 46}\n",
      "{0: 28, 1: 28, 2: 28}\n"
     ]
    }
   ],
   "source": [
    "# Create a dictionary mapping each of the island strings to the number of bytes the string takes up. \n",
    "island_strings = {i: sys.getsizeof(i) for i in ['Torgersen', 'Biscoe', 'Dream']}\n",
    "\n",
    "# Create a dictionary mapping three sample ints to the the number of bytes the int takes up. \n",
    "island_ints = {i: sys.getsizeof(i) for i in [0, 1, 2]}\n",
    "\n",
    "print(island_strings) # Print the dictionary of string sizes. \n",
    "\n",
    "print(island_ints) # Print the dictionary of int sizes. "
   ]
  },
  {
   "cell_type": "markdown",
   "id": "bc5912ea",
   "metadata": {},
   "source": [
    "Again, similar memory savings could be made by converting to int type. "
   ]
  },
  {
   "cell_type": "markdown",
   "id": "5788d565-2594-465b-8f52-26aad406754d",
   "metadata": {},
   "source": [
    "### Bill Length \n",
    "\n",
    "Using the same commands again for the bill_length_mm variable. "
   ]
  },
  {
   "cell_type": "code",
   "execution_count": 12,
   "id": "cddb6f10-8963-41d6-a23f-8a435e6aa1f0",
   "metadata": {},
   "outputs": [
    {
     "data": {
      "text/plain": [
       "0      39.1\n",
       "1      39.5\n",
       "2      40.3\n",
       "3       NaN\n",
       "4      36.7\n",
       "       ... \n",
       "339     NaN\n",
       "340    46.8\n",
       "341    50.4\n",
       "342    45.2\n",
       "343    49.9\n",
       "Name: bill_length_mm, Length: 344, dtype: float64"
      ]
     },
     "execution_count": 12,
     "metadata": {},
     "output_type": "execute_result"
    }
   ],
   "source": [
    "penguins[\"bill_length_mm\"]"
   ]
  },
  {
   "cell_type": "code",
   "execution_count": 13,
   "id": "993fe3cd-2a44-4aaa-b8c1-d5fb0ab33351",
   "metadata": {},
   "outputs": [
    {
     "data": {
      "text/plain": [
       "array([39.1, 39.5, 40.3,  nan, 36.7, 39.3, 38.9, 39.2, 34.1, 42. , 37.8,\n",
       "       41.1, 38.6, 34.6, 36.6, 38.7, 42.5, 34.4, 46. , 37.7, 35.9, 38.2,\n",
       "       38.8, 35.3, 40.6, 40.5, 37.9, 37.2, 40.9, 36.4, 42.2, 37.6, 39.8,\n",
       "       36.5, 40.8, 36. , 44.1, 37. , 39.6, 37.5, 42.3, 40.1, 35. , 34.5,\n",
       "       41.4, 39. , 35.7, 41.3, 41.6, 35.5, 41.8, 33.5, 39.7, 45.8, 42.8,\n",
       "       36.2, 42.1, 42.9, 35.1, 37.3, 36.3, 36.9, 38.3, 34. , 38.1, 33.1,\n",
       "       43.2, 41. , 45.6, 42.7, 40.2, 35.2, 41.5, 38.5, 43.1, 36.8, 35.6,\n",
       "       32.1, 40.7, 46.5, 50. , 51.3, 45.4, 52.7, 45.2, 46.1, 46.6, 51.7,\n",
       "       47. , 52. , 45.9, 50.5, 50.3, 58. , 46.4, 49.2, 42.4, 48.5, 50.6,\n",
       "       46.7, 49.5, 52.8, 54.2, 51. , 49.7, 47.5, 47.6, 46.9, 53.5, 49. ,\n",
       "       46.2, 50.9, 45.5, 50.8, 50.1, 51.5, 49.8, 48.1, 51.4, 45.7, 50.7,\n",
       "       52.2, 49.3, 50.2, 51.9, 46.8, 55.8, 43.5, 49.6, 48.7, 43.3, 48.4,\n",
       "       45.1, 46.3, 44.5, 47.8, 48.2, 47.3, 59.6, 49.1, 42.6, 44.4, 44. ,\n",
       "       45.3, 43.6, 44.9, 45. , 43.8, 50.4, 54.3, 47.7, 48.6, 51.1, 52.5,\n",
       "       47.4, 43.4, 52.1, 49.4, 55.9, 47.2, 41.7, 53.4, 55.1, 48.8, 49.9])"
      ]
     },
     "execution_count": 13,
     "metadata": {},
     "output_type": "execute_result"
    }
   ],
   "source": [
    "penguins[\"bill_length_mm\"].unique()"
   ]
  },
  {
   "cell_type": "markdown",
   "id": "2c5d510e-5db9-4628-b92c-dd26ba0ad040",
   "metadata": {},
   "source": [
    "We can see that this variable contains floating point data to a max of one decimal point, and some missing values. The float type is ideal for this variable. \n",
    "\n",
    "Alternatively, we could convert our data to micrometers by multiplying all of our non-null values by 1000. This would allow us to use the int data type. Let's test if this would result in any memory savings. "
   ]
  },
  {
   "cell_type": "code",
   "execution_count": 7,
   "id": "a0ce4a74",
   "metadata": {},
   "outputs": [
    {
     "name": "stdout",
     "output_type": "stream",
     "text": [
      "{39.1: 24, 39.5: 24, 40.3: 24}\n",
      "{39100: 28, 39500: 28, 40300: 28}\n"
     ]
    }
   ],
   "source": [
    "# Create a dictionary mapping a sample of millimeter floats to the number of bytes the float takes up. \n",
    "bill_length_mm_floats = {i: sys.getsizeof(i) for i in [39.1, 39.5, 40.3]}\n",
    "\n",
    "# Create a dictionary mapping a sample of corresponding micrometer ints to the the number of bytes the int takes up. \n",
    "bill_length_mm_ints = {i: sys.getsizeof(i) for i in [39100, 39500, 40300]}\n",
    "\n",
    "print(bill_length_mm_floats) # Print the dictionary of string sizes. \n",
    "\n",
    "print(bill_length_mm_ints) # Print the dictionary of int sizes. "
   ]
  },
  {
   "cell_type": "markdown",
   "id": "988d1b8a",
   "metadata": {},
   "source": [
    "We can see that in this case, the millimeter floats use less memory than their corresponding micrometer ints.  "
   ]
  },
  {
   "cell_type": "markdown",
   "id": "b5a3571a-8c71-4982-b916-9b2788252047",
   "metadata": {},
   "source": [
    "### Bill Depth\n",
    "\n",
    "Again, using the our commands for the bill_depth_mm variable."
   ]
  },
  {
   "cell_type": "code",
   "execution_count": 14,
   "id": "8d356136-b243-4faf-a4e8-6ea64cbca4fd",
   "metadata": {},
   "outputs": [
    {
     "data": {
      "text/plain": [
       "0      18.7\n",
       "1      17.4\n",
       "2      18.0\n",
       "3       NaN\n",
       "4      19.3\n",
       "       ... \n",
       "339     NaN\n",
       "340    14.3\n",
       "341    15.7\n",
       "342    14.8\n",
       "343    16.1\n",
       "Name: bill_depth_mm, Length: 344, dtype: float64"
      ]
     },
     "execution_count": 14,
     "metadata": {},
     "output_type": "execute_result"
    }
   ],
   "source": [
    "penguins[\"bill_depth_mm\"]"
   ]
  },
  {
   "cell_type": "code",
   "execution_count": 15,
   "id": "2fd98174-bb45-47e9-8760-6a99e616090d",
   "metadata": {},
   "outputs": [
    {
     "data": {
      "text/plain": [
       "array([18.7, 17.4, 18. ,  nan, 19.3, 20.6, 17.8, 19.6, 18.1, 20.2, 17.1,\n",
       "       17.3, 17.6, 21.2, 21.1, 19. , 20.7, 18.4, 21.5, 18.3, 19.2, 17.2,\n",
       "       18.9, 18.6, 17.9, 16.7, 17. , 20. , 18.5, 19.1, 19.7, 16.9, 18.8,\n",
       "       17.7, 19.5, 17.5, 16.6, 18.2, 16.2, 19.4, 16.8, 16.1, 20.3, 16. ,\n",
       "       16.5, 20.5, 19.8, 15.9, 20.1, 15.5, 19.9, 20.8, 16.4, 13.2, 16.3,\n",
       "       14.1, 15.2, 14.5, 13.5, 14.6, 15.3, 13.4, 15.4, 13.7, 15.7, 15.1,\n",
       "       14.3, 15.8, 13.1, 15. , 14.2, 14.8, 13.6, 13.9, 13.3, 14.4, 13.8,\n",
       "       14.9, 15.6, 14. , 14.7])"
      ]
     },
     "execution_count": 15,
     "metadata": {},
     "output_type": "execute_result"
    }
   ],
   "source": [
    "penguins[\"bill_depth_mm\"].unique()"
   ]
  },
  {
   "cell_type": "markdown",
   "id": "8655a48e-498b-49ac-8e46-cebee0bb9d0f",
   "metadata": {},
   "source": [
    "Similar to bill_length_mm, bill_depth_mm contains a mixture of floats and missing values and could be modelled as a float or converted to an int by multiplying by 1000 to convert to micrometers.\n",
    "\n",
    "To test their sizes, we can use the same commands. "
   ]
  },
  {
   "cell_type": "code",
   "execution_count": 8,
   "id": "16875281",
   "metadata": {},
   "outputs": [
    {
     "name": "stdout",
     "output_type": "stream",
     "text": [
      "{18.7: 24, 17.4: 24, 18.0: 24}\n",
      "{18700: 28, 17400: 28, 18000: 28}\n"
     ]
    }
   ],
   "source": [
    "# Create a dictionary mapping a sample of millimeter floats to the number of bytes the float takes up. \n",
    "bill_depth_mm_floats = {i: sys.getsizeof(i) for i in [18.7, 17.4, 18. ]}\n",
    "\n",
    "# Create a dictionary mapping a sample of corresponding micrometer ints to the the number of bytes the int takes up. \n",
    "bill_depth_mm_ints = {i: sys.getsizeof(i) for i in [18700, 17400, 18000]}\n",
    "\n",
    "print(bill_depth_mm_floats) # Print the dictionary of string sizes. \n",
    "\n",
    "print(bill_depth_mm_ints) # Print the dictionary of int sizes. "
   ]
  },
  {
   "cell_type": "markdown",
   "id": "1e75a6cf",
   "metadata": {},
   "source": [
    "Similar to the previous example, the float type is a more efficient type to use. "
   ]
  },
  {
   "cell_type": "markdown",
   "id": "c38b24b5-620e-4cd2-9668-1a1226c24f1f",
   "metadata": {},
   "source": [
    "### Body Mass\n",
    "\n",
    "Using our commands again for the body_mass_g variable. "
   ]
  },
  {
   "cell_type": "code",
   "execution_count": 16,
   "id": "e5ec4807-3045-45a5-afd6-dc111cfcf620",
   "metadata": {},
   "outputs": [
    {
     "data": {
      "text/plain": [
       "0      3750.0\n",
       "1      3800.0\n",
       "2      3250.0\n",
       "3         NaN\n",
       "4      3450.0\n",
       "        ...  \n",
       "339       NaN\n",
       "340    4850.0\n",
       "341    5750.0\n",
       "342    5200.0\n",
       "343    5400.0\n",
       "Name: body_mass_g, Length: 344, dtype: float64"
      ]
     },
     "execution_count": 16,
     "metadata": {},
     "output_type": "execute_result"
    }
   ],
   "source": [
    "penguins[\"body_mass_g\"]"
   ]
  },
  {
   "cell_type": "code",
   "execution_count": 17,
   "id": "f50c1198-bc1f-4110-8ae8-0ac50b727011",
   "metadata": {},
   "outputs": [
    {
     "data": {
      "text/plain": [
       "array([3750., 3800., 3250.,   nan, 3450., 3650., 3625., 4675., 3475.,\n",
       "       4250., 3300., 3700., 3200., 4400., 4500., 3325., 4200., 3400.,\n",
       "       3600., 3950., 3550., 3150., 3900., 4150., 4650., 3100., 3000.,\n",
       "       4600., 3425., 2975., 3500., 4300., 4050., 2900., 2850., 3350.,\n",
       "       4100., 3050., 4450., 4000., 4700., 4350., 3725., 4725., 3075.,\n",
       "       2925., 3175., 4775., 3825., 4275., 4075., 3775., 3875., 3275.,\n",
       "       4475., 3975., 3525., 3575., 4550., 3850., 4800., 2700., 3675.,\n",
       "       5700., 5400., 5200., 5150., 5550., 5850., 6300., 5350., 5000.,\n",
       "       5050., 5100., 5650., 5250., 6050., 4950., 4750., 4900., 5300.,\n",
       "       4850., 5800., 6000., 5950., 4625., 5450., 5600., 4875., 4925.,\n",
       "       4975., 5500., 4575., 4375., 5750.])"
      ]
     },
     "execution_count": 17,
     "metadata": {},
     "output_type": "execute_result"
    }
   ],
   "source": [
    "penguins[\"body_mass_g\"].unique()"
   ]
  },
  {
   "cell_type": "markdown",
   "id": "22a3523b-275d-423a-8ef7-4e4607b588df",
   "metadata": {},
   "source": [
    "From this, we can see that although the body mass data is stored as a float, all of the data points are actually integers. A more efficient way to to store the data for this variable would be by using the `int` type. "
   ]
  },
  {
   "cell_type": "code",
   "execution_count": 9,
   "id": "e563549b",
   "metadata": {},
   "outputs": [
    {
     "name": "stdout",
     "output_type": "stream",
     "text": [
      "{3750.0: 24, 3800.0: 24, 3250.0: 24}\n",
      "{3750: 28, 3800: 28, 3250: 28}\n"
     ]
    }
   ],
   "source": [
    "# Create a dictionary mapping a sample of floats to the number of bytes the float takes up. \n",
    "body_mass_g_floats = {i: sys.getsizeof(i) for i in [3750., 3800., 3250.]}\n",
    "\n",
    "# Create a dictionary mapping a sample of numerically equivalent ints to the the number of bytes the int takes up. \n",
    "body_mass_g_ints = {i: sys.getsizeof(i) for i in [3750, 3800, 3250]}\n",
    "\n",
    "print(body_mass_g_floats) # Print the dictionary of string sizes. \n",
    "\n",
    "print(body_mass_g_ints) # Print the dictionary of int sizes. "
   ]
  },
  {
   "cell_type": "markdown",
   "id": "c81ae9a2",
   "metadata": {},
   "source": [
    "Interestingly, the float type continues to be the more efficient type even when the float and int are numerically equivalent. "
   ]
  },
  {
   "cell_type": "markdown",
   "id": "0ceae970-8493-48d2-8678-2dcceab4c554",
   "metadata": {},
   "source": [
    "### Sex\n",
    "\n",
    "One last time, using our commands on the sex variable. "
   ]
  },
  {
   "cell_type": "code",
   "execution_count": 20,
   "id": "759fa4c6-546c-4f60-8ae5-e8caf241537b",
   "metadata": {},
   "outputs": [
    {
     "data": {
      "text/plain": [
       "0        MALE\n",
       "1      FEMALE\n",
       "2      FEMALE\n",
       "3         NaN\n",
       "4      FEMALE\n",
       "        ...  \n",
       "339       NaN\n",
       "340    FEMALE\n",
       "341      MALE\n",
       "342    FEMALE\n",
       "343      MALE\n",
       "Name: sex, Length: 344, dtype: object"
      ]
     },
     "execution_count": 20,
     "metadata": {},
     "output_type": "execute_result"
    }
   ],
   "source": [
    "penguins[\"sex\"]"
   ]
  },
  {
   "cell_type": "code",
   "execution_count": 21,
   "id": "b39e2aee-74f1-4f23-b856-a793df3c9264",
   "metadata": {},
   "outputs": [
    {
     "data": {
      "text/plain": [
       "array(['MALE', 'FEMALE', nan], dtype=object)"
      ]
     },
     "execution_count": 21,
     "metadata": {},
     "output_type": "execute_result"
    }
   ],
   "source": [
    "penguins[\"sex\"].unique()"
   ]
  },
  {
   "cell_type": "markdown",
   "id": "4b1dde63-54ca-4f11-973a-a8c29a4904a5",
   "metadata": {},
   "source": [
    "This shows that the non-null data points for the sex variable are only one of two different values, 'MALE' or 'FEMALE'. A more efficient way to store and operate on this variable would be to store the data as type bool. We could assign 'MALE' and 'FEMALE' to be `True` and `False` respectively (or the other way around) for the duration of our analysis, converting back to their string values when our analysis is complete. "
   ]
  },
  {
   "cell_type": "code",
   "execution_count": 12,
   "id": "3f3ef5e9",
   "metadata": {},
   "outputs": [
    {
     "name": "stdout",
     "output_type": "stream",
     "text": [
      "{'MALE': 45, 'FEMALE': 47}\n",
      "{True: 28, False: 28}\n"
     ]
    }
   ],
   "source": [
    "# Create a dictionary mapping a sample of floats to the number of bytes the float takes up. \n",
    "sex_strings = {i: sys.getsizeof(i) for i in ['MALE', 'FEMALE']}\n",
    "\n",
    "# Create a dictionary mapping a sample of numerically equivalent ints to the the number of bytes the int takes up. \n",
    "sex_bools = {i: sys.getsizeof(i) for i in [True, False]}\n",
    "\n",
    "print(sex_strings) # Print the dictionary of string sizes. \n",
    "\n",
    "print(sex_bools) # Print the dictionary of bool sizes. "
   ]
  },
  {
   "cell_type": "markdown",
   "id": "a5b1409b",
   "metadata": {},
   "source": [
    "Similar to ints, bools take up 28 bytes and use less memory than strings. "
   ]
  },
  {
   "cell_type": "markdown",
   "id": "540e739d-4779-4c66-9787-61d1e0df7252",
   "metadata": {},
   "source": [
    "## Visualise the Data"
   ]
  },
  {
   "cell_type": "markdown",
   "id": "02cc5a25-51aa-48e2-b2ae-bf1fad2224f9",
   "metadata": {},
   "source": [
    "### Bar Chart\n",
    "\n",
    "Bar charts are used to display and compare categorical or discrete data. In our dataset, we have three categorical variables (species, island, and sex) and no discrete variables. We'll use the species variable to create a bar chart. "
   ]
  },
  {
   "cell_type": "code",
   "execution_count": 13,
   "id": "e88c00fd-1c2a-4236-9807-b05c91122f02",
   "metadata": {},
   "outputs": [
    {
     "data": {
      "image/png": "[encoded data removed]",
      "text/plain": [
       "<Figure size 640x480 with 1 Axes>"
      ]
     },
     "metadata": {},
     "output_type": "display_data"
    }
   ],
   "source": [
    "# Count the number of time each species occurs using the .value_counts() method. This will return a Series. \n",
    "# Use the .reset_index() method to convert to a DataFrame, renaming the column containing the counts. \n",
    "species_counts = penguins[[\"species\"]].value_counts().reset_index(name=\"count\")\n",
    "\n",
    "# Create fig and ax objects. \n",
    "fig, ax = plt.subplots()\n",
    "\n",
    "# Plot a bar chart of species counts. \n",
    "ax.bar(x = species_counts['species'], # Species names.\n",
    "       height = species_counts['count'], # Species counts. \n",
    "       color = [\"turquoise\", \"slategray\", \"cornflowerblue\"]) # Bar colours. \n",
    "\n",
    "# Set the x-axis label.\n",
    "ax.set_xlabel('Species')    \n",
    "\n",
    "# Set the y-axis label.\n",
    "ax.set_ylabel('Counts')\n",
    "\n",
    "# Set the title.\n",
    "ax.set_title('Palmers Penguins Species Counts')  \n",
    "\n",
    "# Remove the top and right spines. \n",
    "ax.spines['top'].set_visible(False)\n",
    "ax.spines['right'].set_visible(False)"
   ]
  },
  {
   "cell_type": "markdown",
   "id": "f300ab3b-0357-469d-9a85-e15e7f5e58db",
   "metadata": {},
   "source": [
    "### Histogram"
   ]
  },
  {
   "cell_type": "markdown",
   "id": "5ea2389a-43ec-4dfd-a28e-ebfa0b61772c",
   "metadata": {},
   "source": [
    "Histograms are used to display continuous data. Values are grouped into buckets, which are represented on the x-axis, and each occurance of a value in a particular bucket (range) is represented by a unit on the y-axis. \n",
    "\n",
    "We have four continuous variables in our data (bill_length_mm, bill_depth_mm, flipper_length_mm, and body_mass_g). We'll plot body_mass_g using a histogram. "
   ]
  },
  {
   "cell_type": "code",
   "execution_count": 24,
   "id": "17027ed2",
   "metadata": {},
   "outputs": [
    {
     "data": {
      "text/plain": [
       "<Axes: xlabel='body_mass_g', ylabel='Count'>"
      ]
     },
     "execution_count": 24,
     "metadata": {},
     "output_type": "execute_result"
    },
    {
     "data": {
      "image/png": "[encoded data removed]",
      "text/plain": [
       "<Figure size 640x480 with 1 Axes>"
      ]
     },
     "metadata": {},
     "output_type": "display_data"
    }
   ],
   "source": [
    "# Create a histogram of the body_mass_g variable using the histplot function from the seaborn library. \n",
    "# Divide it into 40 bins. \n",
    "sns.histplot(penguins['body_mass_g'], bins=40)"
   ]
  },
  {
   "cell_type": "markdown",
   "id": "3f942af2",
   "metadata": {},
   "source": [
    "## Correlation"
   ]
  },
  {
   "cell_type": "markdown",
   "id": "7bf44527",
   "metadata": {},
   "source": [
    "### Pearson Correlation Coefficient"
   ]
  },
  {
   "cell_type": "markdown",
   "id": "70356850",
   "metadata": {},
   "source": [
    "There are various ways to calculate the correlation between two variables. One common way is the Pearson correlation coefficient, which measures the strength of the linear relationship between two variables. A Pearson correlation coefficient of 1 indicates a perfect linear relationship, -1 indicates a perfect negative relationship, and 0 indicates no correlation between the variables. \n",
    "\n",
    "We'll examine the relationship between body_mass_g and flipper_length_mm. \n",
    "\n",
    "To calculate the Pearson correlation coefficient, we'll first generate a correlation matrix which shows the correlation between all inputted variables. "
   ]
  },
  {
   "cell_type": "code",
   "execution_count": 6,
   "id": "7f6dc1d6",
   "metadata": {},
   "outputs": [
    {
     "data": {
      "text/plain": [
       "array([[1.        , 0.87120177],\n",
       "       [0.87120177, 1.        ]])"
      ]
     },
     "execution_count": 6,
     "metadata": {},
     "output_type": "execute_result"
    }
   ],
   "source": [
    "# Create a new DataFrame containing the variables we're interested in. \n",
    "# Drop any rows that contain missing values. \n",
    "corr_data = penguins[[\"body_mass_g\", \"flipper_length_mm\"]].dropna()\n",
    "\n",
    "# Use the corrcoef() function from the NumPy library to calculate a correlation matrix. \n",
    "np.corrcoef(corr_data[\"body_mass_g\"], corr_data[\"flipper_length_mm\"])"
   ]
  },
  {
   "cell_type": "markdown",
   "id": "1971a496",
   "metadata": {},
   "source": [
    "To interpret this array, we'll consider the values from left to right, top to bottom. Respectively, they show the correlation coefficients between:\n",
    "* body_mass_g and body_mass_g\n",
    "* body_mass_g and flipper_length_mm\n",
    "* flipper_length_mm and body_mass_g\n",
    "* flipper_length_mm and flipper_length_mm\n",
    "\n",
    "The diagonal from top left to bottom right will always contain values of 1, as this diagonal shows each variable's correlation with itself. Since we are only comparing two variables, we only have two other values in our matrix which are identical due to symmetry. \n",
    "\n",
    "We can see that body_mass_g and flipper_length_mm have a Pearson correlation coefficient of 0.87120177, indicating a strong positive correlation. "
   ]
  },
  {
   "cell_type": "markdown",
   "id": "c687acdd",
   "metadata": {},
   "source": [
    "### Scatterplot"
   ]
  },
  {
   "cell_type": "markdown",
   "id": "7bbbd8e2",
   "metadata": {},
   "source": [
    "Another more visual way to examine the correlation between two variables is to generate a scatter plot. Scatter plots represent each observation in a dataset as a point on a 2D graph, with x-axis representing one variable and the y-axis representing another. \n",
    "\n",
    "Again, we'll examine the relationship between body_mass_g and flipper_length_mm. "
   ]
  },
  {
   "cell_type": "code",
   "execution_count": 22,
   "id": "5d8a0488",
   "metadata": {},
   "outputs": [
    {
     "data": {
      "text/plain": [
       "<Axes: xlabel='body_mass_g', ylabel='flipper_length_mm'>"
      ]
     },
     "execution_count": 22,
     "metadata": {},
     "output_type": "execute_result"
    },
    {
     "data": {
      "image/png": "[encoded data removed]",
      "text/plain": [
       "<Figure size 640x480 with 1 Axes>"
      ]
     },
     "metadata": {},
     "output_type": "display_data"
    }
   ],
   "source": [
    "sns.scatterplot(x = \"body_mass_g\", # Assign body_mass_g to the x-axis. \n",
    "                y = \"flipper_length_mm\", # Assign flipper_length_mm to the y-axis. \n",
    "                data = corr_data, # Use our corr_data DataFrame which has missing values removed. \n",
    "                s = 20 # Set the point size to 20. \n",
    "                )"
   ]
  },
  {
   "cell_type": "markdown",
   "id": "7f523aa7",
   "metadata": {},
   "source": [
    "This graph visualises in an easy-to-grasp way the correlation between body_mass_g and flipper_length_mm. We can see that, in general, lower body mass corresponds with shorter flipper length. As one variable increases, so does the other in a relatively linear fashion. \n",
    "\n",
    "This linear relationship is strong, but not exact, which aligns with our earlier calculation of a correlation coefficient of 0.87120177. "
   ]
  },
  {
   "cell_type": "markdown",
   "id": "202d0df6-859e-45ea-a80e-d33b7aa1f350",
   "metadata": {},
   "source": [
    "## References"
   ]
  },
  {
   "cell_type": "markdown",
   "id": "60bc31fc-ce3c-450e-975f-262a36af07b4",
   "metadata": {},
   "source": [
    "* https://pandas.pydata.org/docs/reference/api/pandas.read_csv.html\n",
    "* https://www.analyticsvidhya.com/blog/2022/04/data-exploration-and-visualisation-using-palmer-penguins-dataset/\n",
    "* https://stackoverflow.com/questions/48503192/pandas-what-does-object-type-really-mean\n",
    "* https://pandas.pydata.org/docs/user_guide/indexing.html\n",
    "* https://www.askpython.com/python/built-in-methods/variables-memory-size-in-python\n",
    "    * Tutorial showing how to measure the size of a Python variable. \n",
    "* https://en.wikipedia.org/wiki/Orders_of_magnitude_(length)\n",
    "    * Wikipedia article discussing various orders of magnitude. \n",
    "* https://www.w3resource.com/python-interview/explain-the-difference-between-the-int-and-float-data-types.php\n",
    "* https://stackoverflow.com/questions/34113603/int-vs-float-inputs-in-python-3-and-their-utility\n",
    "* https://statisticsbyjim.com/graphs/bar-charts/\n",
    "    * Article by statistician Jim Frost discussing how to use and interpret bar charts.\n",
    "* https://matplotlib.org/stable/api/_as_gen/matplotlib.pyplot.bar.html\n",
    "    * Documentation on how to create a bar chart in Python using the matplotlib library.\n",
    "* https://seaborn.pydata.org/generated/seaborn.histplot.html\n",
    "    * Documentation on how to create a histogram in Python using the seaborn library.\n",
    "* https://machinelearningmastery.com/how-to-use-correlation-to-understand-the-relationship-between-variables/\n",
    "    * Analysis of how to use Python to calculate various measures of correlation. \n",
    "* https://realpython.com/numpy-scipy-pandas-correlation-python/\n",
    "    * Article showing how to use Python libraries NumPy, SciPy, and pandas to calculate correlation. \n",
    "* https://www.geeksforgeeks.org/exploring-correlation-in-python/\n",
    "    * Python tutorial exploring how to calculate and visualise correlation. \n",
    "* https://seaborn.pydata.org/generated/seaborn.scatterplot.html\n",
    "    * Documentation on how to create a scatter plot in Python using the seaborn library."
   ]
  }
 ],
 "metadata": {
  "kernelspec": {
   "display_name": "Python 3 (ipykernel)",
   "language": "python",
   "name": "python3"
  },
  "language_info": {
   "codemirror_mode": {
    "name": "ipython",
    "version": 3
   },
   "file_extension": ".py",
   "mimetype": "text/x-python",
   "name": "python",
   "nbconvert_exporter": "python",
   "pygments_lexer": "ipython3",
   "version": "3.12.2"
  }
 },
 "nbformat": 4,
 "nbformat_minor": 5
}
